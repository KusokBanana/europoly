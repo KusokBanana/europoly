{
 "cells": [
  {
   "cell_type": "code",
   "execution_count": 1,
   "metadata": {
    "collapsed": false
   },
   "outputs": [
    {
     "name": "stdout",
     "output_type": "stream",
     "text": [
      "['',\n",
      " 'C:\\\\Users\\\\Святослав\\\\Anaconda3\\\\python35.zip',\n",
      " 'C:\\\\Users\\\\Святослав\\\\Anaconda3\\\\DLLs',\n",
      " 'C:\\\\Users\\\\Святослав\\\\Anaconda3\\\\lib',\n",
      " 'C:\\\\Users\\\\Святослав\\\\Anaconda3',\n",
      " 'C:\\\\Users\\\\Святослав\\\\Anaconda3\\\\lib\\\\site-packages',\n",
      " 'C:\\\\Users\\\\Святослав\\\\Anaconda3\\\\lib\\\\site-packages\\\\Sphinx-1.4.6-py3.5.egg',\n",
      " 'C:\\\\Users\\\\Святослав\\\\Anaconda3\\\\lib\\\\site-packages\\\\win32',\n",
      " 'C:\\\\Users\\\\Святослав\\\\Anaconda3\\\\lib\\\\site-packages\\\\win32\\\\lib',\n",
      " 'C:\\\\Users\\\\Святослав\\\\Anaconda3\\\\lib\\\\site-packages\\\\Pythonwin',\n",
      " 'C:\\\\Users\\\\Святослав\\\\Anaconda3\\\\lib\\\\site-packages\\\\setuptools-27.2.0-py3.5.egg',\n",
      " 'C:\\\\Users\\\\Святослав\\\\Anaconda3\\\\lib\\\\site-packages\\\\IPython\\\\extensions',\n",
      " 'C:\\\\Users\\\\Святослав\\\\.ipython']\n"
     ]
    }
   ],
   "source": [
    " import sys, pprint\n",
    " pprint.pprint(sys.path)"
   ]
  },
  {
   "cell_type": "code",
   "execution_count": 2,
   "metadata": {
    "collapsed": false
   },
   "outputs": [
    {
     "ename": "SyntaxError",
     "evalue": "invalid syntax (<ipython-input-2-4df6aa3b7c36>, line 2)",
     "output_type": "error",
     "traceback": [
      "\u001b[0;36m  File \u001b[0;32m\"<ipython-input-2-4df6aa3b7c36>\"\u001b[0;36m, line \u001b[0;32m2\u001b[0m\n\u001b[0;31m    echo %pythonpath%\u001b[0m\n\u001b[0m                     ^\u001b[0m\n\u001b[0;31mSyntaxError\u001b[0m\u001b[0;31m:\u001b[0m invalid syntax\n"
     ]
    }
   ],
   "source": [
    "cmd\n",
    "echo %pythonpath%"
   ]
  },
  {
   "cell_type": "code",
   "execution_count": 3,
   "metadata": {
    "collapsed": false
   },
   "outputs": [
    {
     "ename": "NameError",
     "evalue": "name 'cmd' is not defined",
     "output_type": "error",
     "traceback": [
      "\u001b[0;31m---------------------------------------------------------------------------\u001b[0m",
      "\u001b[0;31mNameError\u001b[0m                                 Traceback (most recent call last)",
      "\u001b[0;32m<ipython-input-3-dcfdd5e021a8>\u001b[0m in \u001b[0;36m<module>\u001b[0;34m()\u001b[0m\n\u001b[0;32m----> 1\u001b[0;31m \u001b[0mcmd\u001b[0m\u001b[1;33m\u001b[0m\u001b[0m\n\u001b[0m",
      "\u001b[0;31mNameError\u001b[0m: name 'cmd' is not defined"
     ]
    }
   ],
   "source": [
    "cmd"
   ]
  },
  {
   "cell_type": "code",
   "execution_count": null,
   "metadata": {
    "collapsed": true
   },
   "outputs": [],
   "source": []
  }
 ],
 "metadata": {
  "anaconda-cloud": {},
  "kernelspec": {
   "display_name": "Python [default]",
   "language": "python",
   "name": "python3"
  },
  "language_info": {
   "codemirror_mode": {
    "name": "ipython",
    "version": 3
   },
   "file_extension": ".py",
   "mimetype": "text/x-python",
   "name": "python",
   "nbconvert_exporter": "python",
   "pygments_lexer": "ipython3",
   "version": "3.5.2"
  }
 },
 "nbformat": 4,
 "nbformat_minor": 1
}
