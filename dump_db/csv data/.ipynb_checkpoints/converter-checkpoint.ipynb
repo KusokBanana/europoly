{
 "cells": [
  {
   "cell_type": "code",
   "execution_count": 9,
   "metadata": {
    "collapsed": true
   },
   "outputs": [],
   "source": [
    "import numpy as np\n",
    "import pandas\n",
    "\n",
    "import csv"
   ]
  },
  {
   "cell_type": "code",
   "execution_count": 10,
   "metadata": {
    "collapsed": false
   },
   "outputs": [],
   "source": [
    "brand_mapping = {\n",
    "    'name': 'Brand',\n",
    "    'supplier': u'Supplier'\n",
    "}\n",
    "nls_brand_mapping = {\n",
    "    'name': u'Бренд',\n",
    "    'supplier': u'Поставщик'\n",
    "}\n",
    "product_mapping = {\n",
    "    'article': u'Артикул',\n",
    "    'country': 'Country',\n",
    "    'collection': 'Collection',\n",
    "    'wood_id': u'Порода дерева',\n",
    "    'name': u'Name/ Wood',\n",
    "    'additional_info': 'Additional characteristics',\n",
    "    'color_id': u'Цвет (из 9 вариантов)',\n",
    "    'color2_id': u'Цвет (из 9 вариантов).1',\n",
    "    'grading_id': u'Селекция',\n",
    "    'thickness': u'Толщина',\n",
    "    'width': u'Ширина',\n",
    "    'length': u'Длина',\n",
    "    'texture': 'Texture',\n",
    "    'layer': 'Bottom layer/ Middle layer (for Admonter panels)',\n",
    "    'installation': 'Installation',\n",
    "    'surface': 'Surface',\n",
    "    'construction_id': u'Тип конструкции',\n",
    "    'units': 'Units',\n",
    "    'packing_type': 'Packing Type',\n",
    "    'weight': u'Вес 1 единицы измерения',\n",
    "    'amount': u'Количество товара в упаковке (в единицах измерения)',\n",
    "    'purchase_price': u'Закупочная цена',\n",
    "    'currency': u'Валюта',\n",
    "    'suppliers_discount': u'Скидка от производителя',\n",
    "    'margin': u'Коэффициент наценки',\n",
    "    'pattern_id': u'Паттерн',\n",
    "    'category_id': u'Категория'\n",
    "}\n",
    "nls_product_mapping = {\n",
    "    'country': u'Страна',\n",
    "    'collection': u'Коллекция',\n",
    "    'name': u'Название/ Порода дерева',\n",
    "    'additional_info': u'Дополнительные характеристики',\n",
    "    'texture': u'Текстура поверхности',\n",
    "    'layer': u'Нижний слой/ Средний слой (для панелей Admonter)',\n",
    "    'installation': u'Способ укладки',\n",
    "    'surface': u'Покрытие поверхности',\n",
    "    'units': u'Единица измерения',\n",
    "    'packing_type': u'Тип упаковки'\n",
    "}"
   ]
  },
  {
   "cell_type": "code",
   "execution_count": 11,
   "metadata": {
    "collapsed": true
   },
   "outputs": [],
   "source": [
    "def get(row, col, errors):\n",
    "    if col not in row:\n",
    "        errors.update([col + \" is not in dataset\"])\n",
    "    else:\n",
    "        value = row[col]\n",
    "        if unicode(value) == 'nan':\n",
    "            return \"NULL\"\n",
    "        if isinstance(value, basestring):\n",
    "            return value.strip()\n",
    "        elif isinstance(value, float) and value.is_integer():\n",
    "            return int(value)\n",
    "        else:\n",
    "            return value"
   ]
  },
  {
   "cell_type": "code",
   "execution_count": 3,
   "metadata": {
    "collapsed": false
   },
   "outputs": [],
   "source": [
    "products, nls_products, brands, nls_brands, photos = [], [], [], [], []\n",
    "\n",
    "ids = {\n",
    "    'product': 1,\n",
    "    'brand': 1,\n",
    "    'photo': 1\n",
    "}\n",
    "\n",
    "def brand_id(row, errors):\n",
    "    en, ru = get(row, u'Brand', []), get(row, u'Бренд', [])\n",
    "    matched = [brand for brand in brands if brand['name'] == en]\n",
    "    if len(matched) > 0:\n",
    "        return matched[0]['brand_id']\n",
    "    else:\n",
    "        brand = {\n",
    "            'brand_id': ids['brand'],\n",
    "        }\n",
    "        for col, col_name in brand_mapping.items():\n",
    "            brand[col] = get(row, col_name, errors)\n",
    "        brands.append(brand)\n",
    "        \n",
    "        nls_brand = {\n",
    "            'brand_id': ids['brand'],\n",
    "            'language_id': 2,\n",
    "        }\n",
    "        for col, col_name in nls_brand_mapping.items():\n",
    "            nls_brand[col] = get(row, col_name, errors)\n",
    "        nls_brands.append(nls_brand)\n",
    "        \n",
    "        ids['brand'] += 1\n",
    "        return ids['brand'] - 1\n",
    "            \n",
    "def read_file(name, df):\n",
    "    errors = set()\n",
    "    df.columns = [unicode(df.iloc[0, idx]).strip() if col.startswith(\"Unnamed\") else unicode(col).strip() for idx, col in enumerate(df.columns)]\n",
    "    for _, row in df.iterrows():\n",
    "        if unicode(get(row, u'Brand', errors)) != 'NULL' and unicode(get(row, u'Бренд', errors)) != 'NULL':\n",
    "            product = {\n",
    "                'product_id': ids['product'],\n",
    "                'brand_id': brand_id(row, errors),\n",
    "                'sheet': name.strip(),\n",
    "                'status': 0\n",
    "            }\n",
    "            for col, col_name in product_mapping.items():\n",
    "                product[col] = get(row, col_name, errors)\n",
    "            products.append(product)\n",
    "            \n",
    "            nls_product = {\n",
    "                'product_id': ids['product'],\n",
    "                'language_id': 2\n",
    "            }\n",
    "            for col, col_name in nls_product_mapping.items():\n",
    "                nls_product[col] = get(row, col_name, errors)\n",
    "            nls_products.append(nls_product)\n",
    "            \n",
    "            for photo_key in [key for key in row.keys() if key.startswith(u'Фото')]:\n",
    "                if get(row, photo_key, errors) != u'#' and unicode(get(row, photo_key, errors)) != 'NULL':\n",
    "                    if photo_key.endswith(u\"(А)\"):\n",
    "                        letter = u'A'\n",
    "                    elif photo_key.endswith(u\"(Б)\"):\n",
    "                        letter = u'B'\n",
    "                    elif photo_key.endswith(u\"(В)\"):\n",
    "                        letter = u'C'\n",
    "                    else:\n",
    "                        letter = u''\n",
    "                    for photo_name in unicode(get(row, photo_key, errors)).split(', '):\n",
    "                        if photo_name.endswith(u\"А\"):\n",
    "                            photo_name = photo_name[:-1]\n",
    "                            letter = u'A'\n",
    "                        elif photo_name.endswith(u\"Б\"):\n",
    "                            photo_name = photo_name[:-1]\n",
    "                            letter = u'B'\n",
    "                        elif photo_name.endswith(u\"В\"):\n",
    "                            photo_name = photo_name[:-1]\n",
    "                            letter = u'C'\n",
    "                        elif photo_name.endswith(u\"Г\"):\n",
    "                            photo_name = photo_name[:-1]\n",
    "                            letter = u'G'\n",
    "                        elif photo_name.endswith(u\"Д\"):\n",
    "                            photo_name = photo_name[:-1]\n",
    "                            letter = u'D'\n",
    "                        elif photo_name.endswith(u\"Е\"):\n",
    "                            photo_name = photo_name[:-1]\n",
    "                            letter = u'E'\n",
    "                        photos.append({\n",
    "                            'photo_id': ids['photo'],\n",
    "                            'product_id': ids['product'],\n",
    "                            'name': get(row, 'Brand', errors) + \" - \" + photo_name + letter,\n",
    "                            'description': photo_key\n",
    "                        })\n",
    "                        ids['photo'] += 1\n",
    "                    \n",
    "            ids['product'] += 1\n",
    "            \n",
    "    print (name, 'sum:', len(products), \"\\n\", errors)\n",
    "    return products, nls_products, photos"
   ]
  },
  {
   "cell_type": "code",
   "execution_count": 4,
   "metadata": {
    "collapsed": false,
    "scrolled": false
   },
   "outputs": [
    {
     "ename": "NameError",
     "evalue": "name 'pd' is not defined",
     "output_type": "error",
     "traceback": [
      "\u001b[0;31m---------------------------------------------------------------------------\u001b[0m",
      "\u001b[0;31mNameError\u001b[0m                                 Traceback (most recent call last)",
      "\u001b[0;32m<ipython-input-4-c9d70adfd80c>\u001b[0m in \u001b[0;36m<module>\u001b[0;34m()\u001b[0m\n\u001b[0;32m----> 1\u001b[0;31m \u001b[0msheets\u001b[0m \u001b[1;33m=\u001b[0m \u001b[0mpd\u001b[0m\u001b[1;33m.\u001b[0m\u001b[0mread_excel\u001b[0m\u001b[1;33m(\u001b[0m\u001b[1;34mu\"../raw data/БАЗА_02-08 (1).xlsx\"\u001b[0m\u001b[1;33m,\u001b[0m \u001b[0msheetname\u001b[0m\u001b[1;33m=\u001b[0m\u001b[1;32mNone\u001b[0m\u001b[1;33m)\u001b[0m\u001b[1;33m\u001b[0m\u001b[0m\n\u001b[0m\u001b[1;32m      2\u001b[0m \u001b[1;32mfor\u001b[0m \u001b[0mname\u001b[0m\u001b[1;33m,\u001b[0m \u001b[0msheet\u001b[0m \u001b[1;32min\u001b[0m \u001b[0msheets\u001b[0m\u001b[1;33m.\u001b[0m\u001b[0mitems\u001b[0m\u001b[1;33m(\u001b[0m\u001b[1;33m)\u001b[0m\u001b[1;33m:\u001b[0m\u001b[1;33m\u001b[0m\u001b[0m\n\u001b[1;32m      3\u001b[0m     \u001b[0mresults\u001b[0m \u001b[1;33m=\u001b[0m \u001b[0mread_file\u001b[0m\u001b[1;33m(\u001b[0m\u001b[0mname\u001b[0m\u001b[1;33m,\u001b[0m \u001b[0msheet\u001b[0m\u001b[1;33m)\u001b[0m\u001b[1;33m\u001b[0m\u001b[0m\n",
      "\u001b[0;31mNameError\u001b[0m: name 'pd' is not defined"
     ]
    }
   ],
   "source": [
    "sheets = pandas.read_excel(u\"../raw data/БАЗА_02-08 (1).xlsx\", sheetname=None)\n",
    "for name, sheet in sheets.items():\n",
    "    results = read_file(name, sheet)"
   ]
  },
  {
   "cell_type": "code",
   "execution_count": null,
   "metadata": {
    "collapsed": false
   },
   "outputs": [],
   "source": [
    "df_products = pandas.DataFrame(products)\n",
    "df_products.index = df_products['product_id']\n",
    "df_products[[\n",
    "    'article', 'name', 'category_id', 'brand_id', 'country', 'collection', 'wood_id', 'additional_info', 'color_id', 'color2_id', 'grading_id',\n",
    "    'thickness', 'width', 'length', 'texture', 'layer', 'installation', 'surface', 'construction_id', 'units', 'packing_type',\n",
    "    'weight', 'amount', 'purchase_price', 'purchase_price', 'currency', 'suppliers_discount', 'margin', 'pattern_id', 'sheet', 'status'    \n",
    "]].to_csv(\"output_products.csv\", encoding=\"utf-8\", header=False, quoting=csv.QUOTE_ALL)"
   ]
  },
  {
   "cell_type": "code",
   "execution_count": 15,
   "metadata": {
    "collapsed": false
   },
   "outputs": [
    {
     "ename": "KeyError",
     "evalue": "'product_id'",
     "output_type": "error",
     "traceback": [
      "\u001b[0;31m---------------------------------------------------------------------------\u001b[0m",
      "\u001b[0;31mKeyError\u001b[0m                                  Traceback (most recent call last)",
      "\u001b[0;32mC:\\Users\\Святослав\\Anaconda3\\lib\\site-packages\\pandas\\indexes\\base.py\u001b[0m in \u001b[0;36mget_loc\u001b[0;34m(self, key, method, tolerance)\u001b[0m\n\u001b[1;32m   1944\u001b[0m             \u001b[1;32mtry\u001b[0m\u001b[1;33m:\u001b[0m\u001b[1;33m\u001b[0m\u001b[0m\n\u001b[0;32m-> 1945\u001b[0;31m                 \u001b[1;32mreturn\u001b[0m \u001b[0mself\u001b[0m\u001b[1;33m.\u001b[0m\u001b[0m_engine\u001b[0m\u001b[1;33m.\u001b[0m\u001b[0mget_loc\u001b[0m\u001b[1;33m(\u001b[0m\u001b[0mkey\u001b[0m\u001b[1;33m)\u001b[0m\u001b[1;33m\u001b[0m\u001b[0m\n\u001b[0m\u001b[1;32m   1946\u001b[0m             \u001b[1;32mexcept\u001b[0m \u001b[0mKeyError\u001b[0m\u001b[1;33m:\u001b[0m\u001b[1;33m\u001b[0m\u001b[0m\n",
      "\u001b[0;32mpandas\\index.pyx\u001b[0m in \u001b[0;36mpandas.index.IndexEngine.get_loc (pandas\\index.c:4154)\u001b[0;34m()\u001b[0m\n",
      "\u001b[0;32mpandas\\index.pyx\u001b[0m in \u001b[0;36mpandas.index.IndexEngine.get_loc (pandas\\index.c:4018)\u001b[0;34m()\u001b[0m\n",
      "\u001b[0;32mpandas\\hashtable.pyx\u001b[0m in \u001b[0;36mpandas.hashtable.PyObjectHashTable.get_item (pandas\\hashtable.c:12368)\u001b[0;34m()\u001b[0m\n",
      "\u001b[0;32mpandas\\hashtable.pyx\u001b[0m in \u001b[0;36mpandas.hashtable.PyObjectHashTable.get_item (pandas\\hashtable.c:12322)\u001b[0;34m()\u001b[0m\n",
      "\u001b[0;31mKeyError\u001b[0m: 'product_id'",
      "\nDuring handling of the above exception, another exception occurred:\n",
      "\u001b[0;31mKeyError\u001b[0m                                  Traceback (most recent call last)",
      "\u001b[0;32m<ipython-input-15-471f1886daa4>\u001b[0m in \u001b[0;36m<module>\u001b[0;34m()\u001b[0m\n\u001b[1;32m      1\u001b[0m \u001b[0mdf_nls_products\u001b[0m \u001b[1;33m=\u001b[0m \u001b[0mpd\u001b[0m\u001b[1;33m.\u001b[0m\u001b[0mDataFrame\u001b[0m\u001b[1;33m(\u001b[0m\u001b[0mnls_products\u001b[0m\u001b[1;33m)\u001b[0m\u001b[1;33m\u001b[0m\u001b[0m\n\u001b[0;32m----> 2\u001b[0;31m \u001b[0mdf_nls_products\u001b[0m\u001b[1;33m.\u001b[0m\u001b[0mindex\u001b[0m \u001b[1;33m=\u001b[0m \u001b[0mdf_nls_products\u001b[0m\u001b[1;33m[\u001b[0m\u001b[1;34m'product_id'\u001b[0m\u001b[1;33m]\u001b[0m\u001b[1;33m\u001b[0m\u001b[0m\n\u001b[0m\u001b[1;32m      3\u001b[0m df_nls_products[[\n\u001b[1;32m      4\u001b[0m         \u001b[1;34m'language_id'\u001b[0m\u001b[1;33m,\u001b[0m \u001b[1;34m'country'\u001b[0m\u001b[1;33m,\u001b[0m \u001b[1;34m'collection'\u001b[0m\u001b[1;33m,\u001b[0m \u001b[1;34m'additional_info'\u001b[0m\u001b[1;33m,\u001b[0m \u001b[1;34m'texture'\u001b[0m\u001b[1;33m,\u001b[0m \u001b[1;34m'layer'\u001b[0m\u001b[1;33m,\u001b[0m \u001b[1;34m'installation'\u001b[0m\u001b[1;33m,\u001b[0m\u001b[1;33m\u001b[0m\u001b[0m\n\u001b[1;32m      5\u001b[0m         \u001b[1;34m'surface'\u001b[0m\u001b[1;33m,\u001b[0m \u001b[1;34m'units'\u001b[0m\u001b[1;33m,\u001b[0m \u001b[1;34m'packing_type'\u001b[0m\u001b[1;33m\u001b[0m\u001b[0m\n",
      "\u001b[0;32mC:\\Users\\Святослав\\Anaconda3\\lib\\site-packages\\pandas\\core\\frame.py\u001b[0m in \u001b[0;36m__getitem__\u001b[0;34m(self, key)\u001b[0m\n\u001b[1;32m   1995\u001b[0m             \u001b[1;32mreturn\u001b[0m \u001b[0mself\u001b[0m\u001b[1;33m.\u001b[0m\u001b[0m_getitem_multilevel\u001b[0m\u001b[1;33m(\u001b[0m\u001b[0mkey\u001b[0m\u001b[1;33m)\u001b[0m\u001b[1;33m\u001b[0m\u001b[0m\n\u001b[1;32m   1996\u001b[0m         \u001b[1;32melse\u001b[0m\u001b[1;33m:\u001b[0m\u001b[1;33m\u001b[0m\u001b[0m\n\u001b[0;32m-> 1997\u001b[0;31m             \u001b[1;32mreturn\u001b[0m \u001b[0mself\u001b[0m\u001b[1;33m.\u001b[0m\u001b[0m_getitem_column\u001b[0m\u001b[1;33m(\u001b[0m\u001b[0mkey\u001b[0m\u001b[1;33m)\u001b[0m\u001b[1;33m\u001b[0m\u001b[0m\n\u001b[0m\u001b[1;32m   1998\u001b[0m \u001b[1;33m\u001b[0m\u001b[0m\n\u001b[1;32m   1999\u001b[0m     \u001b[1;32mdef\u001b[0m \u001b[0m_getitem_column\u001b[0m\u001b[1;33m(\u001b[0m\u001b[0mself\u001b[0m\u001b[1;33m,\u001b[0m \u001b[0mkey\u001b[0m\u001b[1;33m)\u001b[0m\u001b[1;33m:\u001b[0m\u001b[1;33m\u001b[0m\u001b[0m\n",
      "\u001b[0;32mC:\\Users\\Святослав\\Anaconda3\\lib\\site-packages\\pandas\\core\\frame.py\u001b[0m in \u001b[0;36m_getitem_column\u001b[0;34m(self, key)\u001b[0m\n\u001b[1;32m   2002\u001b[0m         \u001b[1;31m# get column\u001b[0m\u001b[1;33m\u001b[0m\u001b[1;33m\u001b[0m\u001b[0m\n\u001b[1;32m   2003\u001b[0m         \u001b[1;32mif\u001b[0m \u001b[0mself\u001b[0m\u001b[1;33m.\u001b[0m\u001b[0mcolumns\u001b[0m\u001b[1;33m.\u001b[0m\u001b[0mis_unique\u001b[0m\u001b[1;33m:\u001b[0m\u001b[1;33m\u001b[0m\u001b[0m\n\u001b[0;32m-> 2004\u001b[0;31m             \u001b[1;32mreturn\u001b[0m \u001b[0mself\u001b[0m\u001b[1;33m.\u001b[0m\u001b[0m_get_item_cache\u001b[0m\u001b[1;33m(\u001b[0m\u001b[0mkey\u001b[0m\u001b[1;33m)\u001b[0m\u001b[1;33m\u001b[0m\u001b[0m\n\u001b[0m\u001b[1;32m   2005\u001b[0m \u001b[1;33m\u001b[0m\u001b[0m\n\u001b[1;32m   2006\u001b[0m         \u001b[1;31m# duplicate columns & possible reduce dimensionality\u001b[0m\u001b[1;33m\u001b[0m\u001b[1;33m\u001b[0m\u001b[0m\n",
      "\u001b[0;32mC:\\Users\\Святослав\\Anaconda3\\lib\\site-packages\\pandas\\core\\generic.py\u001b[0m in \u001b[0;36m_get_item_cache\u001b[0;34m(self, item)\u001b[0m\n\u001b[1;32m   1348\u001b[0m         \u001b[0mres\u001b[0m \u001b[1;33m=\u001b[0m \u001b[0mcache\u001b[0m\u001b[1;33m.\u001b[0m\u001b[0mget\u001b[0m\u001b[1;33m(\u001b[0m\u001b[0mitem\u001b[0m\u001b[1;33m)\u001b[0m\u001b[1;33m\u001b[0m\u001b[0m\n\u001b[1;32m   1349\u001b[0m         \u001b[1;32mif\u001b[0m \u001b[0mres\u001b[0m \u001b[1;32mis\u001b[0m \u001b[1;32mNone\u001b[0m\u001b[1;33m:\u001b[0m\u001b[1;33m\u001b[0m\u001b[0m\n\u001b[0;32m-> 1350\u001b[0;31m             \u001b[0mvalues\u001b[0m \u001b[1;33m=\u001b[0m \u001b[0mself\u001b[0m\u001b[1;33m.\u001b[0m\u001b[0m_data\u001b[0m\u001b[1;33m.\u001b[0m\u001b[0mget\u001b[0m\u001b[1;33m(\u001b[0m\u001b[0mitem\u001b[0m\u001b[1;33m)\u001b[0m\u001b[1;33m\u001b[0m\u001b[0m\n\u001b[0m\u001b[1;32m   1351\u001b[0m             \u001b[0mres\u001b[0m \u001b[1;33m=\u001b[0m \u001b[0mself\u001b[0m\u001b[1;33m.\u001b[0m\u001b[0m_box_item_values\u001b[0m\u001b[1;33m(\u001b[0m\u001b[0mitem\u001b[0m\u001b[1;33m,\u001b[0m \u001b[0mvalues\u001b[0m\u001b[1;33m)\u001b[0m\u001b[1;33m\u001b[0m\u001b[0m\n\u001b[1;32m   1352\u001b[0m             \u001b[0mcache\u001b[0m\u001b[1;33m[\u001b[0m\u001b[0mitem\u001b[0m\u001b[1;33m]\u001b[0m \u001b[1;33m=\u001b[0m \u001b[0mres\u001b[0m\u001b[1;33m\u001b[0m\u001b[0m\n",
      "\u001b[0;32mC:\\Users\\Святослав\\Anaconda3\\lib\\site-packages\\pandas\\core\\internals.py\u001b[0m in \u001b[0;36mget\u001b[0;34m(self, item, fastpath)\u001b[0m\n\u001b[1;32m   3288\u001b[0m \u001b[1;33m\u001b[0m\u001b[0m\n\u001b[1;32m   3289\u001b[0m             \u001b[1;32mif\u001b[0m \u001b[1;32mnot\u001b[0m \u001b[0misnull\u001b[0m\u001b[1;33m(\u001b[0m\u001b[0mitem\u001b[0m\u001b[1;33m)\u001b[0m\u001b[1;33m:\u001b[0m\u001b[1;33m\u001b[0m\u001b[0m\n\u001b[0;32m-> 3290\u001b[0;31m                 \u001b[0mloc\u001b[0m \u001b[1;33m=\u001b[0m \u001b[0mself\u001b[0m\u001b[1;33m.\u001b[0m\u001b[0mitems\u001b[0m\u001b[1;33m.\u001b[0m\u001b[0mget_loc\u001b[0m\u001b[1;33m(\u001b[0m\u001b[0mitem\u001b[0m\u001b[1;33m)\u001b[0m\u001b[1;33m\u001b[0m\u001b[0m\n\u001b[0m\u001b[1;32m   3291\u001b[0m             \u001b[1;32melse\u001b[0m\u001b[1;33m:\u001b[0m\u001b[1;33m\u001b[0m\u001b[0m\n\u001b[1;32m   3292\u001b[0m                 \u001b[0mindexer\u001b[0m \u001b[1;33m=\u001b[0m \u001b[0mnp\u001b[0m\u001b[1;33m.\u001b[0m\u001b[0marange\u001b[0m\u001b[1;33m(\u001b[0m\u001b[0mlen\u001b[0m\u001b[1;33m(\u001b[0m\u001b[0mself\u001b[0m\u001b[1;33m.\u001b[0m\u001b[0mitems\u001b[0m\u001b[1;33m)\u001b[0m\u001b[1;33m)\u001b[0m\u001b[1;33m[\u001b[0m\u001b[0misnull\u001b[0m\u001b[1;33m(\u001b[0m\u001b[0mself\u001b[0m\u001b[1;33m.\u001b[0m\u001b[0mitems\u001b[0m\u001b[1;33m)\u001b[0m\u001b[1;33m]\u001b[0m\u001b[1;33m\u001b[0m\u001b[0m\n",
      "\u001b[0;32mC:\\Users\\Святослав\\Anaconda3\\lib\\site-packages\\pandas\\indexes\\base.py\u001b[0m in \u001b[0;36mget_loc\u001b[0;34m(self, key, method, tolerance)\u001b[0m\n\u001b[1;32m   1945\u001b[0m                 \u001b[1;32mreturn\u001b[0m \u001b[0mself\u001b[0m\u001b[1;33m.\u001b[0m\u001b[0m_engine\u001b[0m\u001b[1;33m.\u001b[0m\u001b[0mget_loc\u001b[0m\u001b[1;33m(\u001b[0m\u001b[0mkey\u001b[0m\u001b[1;33m)\u001b[0m\u001b[1;33m\u001b[0m\u001b[0m\n\u001b[1;32m   1946\u001b[0m             \u001b[1;32mexcept\u001b[0m \u001b[0mKeyError\u001b[0m\u001b[1;33m:\u001b[0m\u001b[1;33m\u001b[0m\u001b[0m\n\u001b[0;32m-> 1947\u001b[0;31m                 \u001b[1;32mreturn\u001b[0m \u001b[0mself\u001b[0m\u001b[1;33m.\u001b[0m\u001b[0m_engine\u001b[0m\u001b[1;33m.\u001b[0m\u001b[0mget_loc\u001b[0m\u001b[1;33m(\u001b[0m\u001b[0mself\u001b[0m\u001b[1;33m.\u001b[0m\u001b[0m_maybe_cast_indexer\u001b[0m\u001b[1;33m(\u001b[0m\u001b[0mkey\u001b[0m\u001b[1;33m)\u001b[0m\u001b[1;33m)\u001b[0m\u001b[1;33m\u001b[0m\u001b[0m\n\u001b[0m\u001b[1;32m   1948\u001b[0m \u001b[1;33m\u001b[0m\u001b[0m\n\u001b[1;32m   1949\u001b[0m         \u001b[0mindexer\u001b[0m \u001b[1;33m=\u001b[0m \u001b[0mself\u001b[0m\u001b[1;33m.\u001b[0m\u001b[0mget_indexer\u001b[0m\u001b[1;33m(\u001b[0m\u001b[1;33m[\u001b[0m\u001b[0mkey\u001b[0m\u001b[1;33m]\u001b[0m\u001b[1;33m,\u001b[0m \u001b[0mmethod\u001b[0m\u001b[1;33m=\u001b[0m\u001b[0mmethod\u001b[0m\u001b[1;33m,\u001b[0m \u001b[0mtolerance\u001b[0m\u001b[1;33m=\u001b[0m\u001b[0mtolerance\u001b[0m\u001b[1;33m)\u001b[0m\u001b[1;33m\u001b[0m\u001b[0m\n",
      "\u001b[0;32mpandas\\index.pyx\u001b[0m in \u001b[0;36mpandas.index.IndexEngine.get_loc (pandas\\index.c:4154)\u001b[0;34m()\u001b[0m\n",
      "\u001b[0;32mpandas\\index.pyx\u001b[0m in \u001b[0;36mpandas.index.IndexEngine.get_loc (pandas\\index.c:4018)\u001b[0;34m()\u001b[0m\n",
      "\u001b[0;32mpandas\\hashtable.pyx\u001b[0m in \u001b[0;36mpandas.hashtable.PyObjectHashTable.get_item (pandas\\hashtable.c:12368)\u001b[0;34m()\u001b[0m\n",
      "\u001b[0;32mpandas\\hashtable.pyx\u001b[0m in \u001b[0;36mpandas.hashtable.PyObjectHashTable.get_item (pandas\\hashtable.c:12322)\u001b[0;34m()\u001b[0m\n",
      "\u001b[0;31mKeyError\u001b[0m: 'product_id'"
     ]
    }
   ],
   "source": [
    "df_nls_products = pandas.DataFrame(nls_products)\n",
    "df_nls_products.index = df_nls_products['product_id']\n",
    "df_nls_products[[\n",
    "        'language_id', 'country', 'collection', 'additional_info', 'texture', 'layer', 'installation',\n",
    "        'surface', 'units', 'packing_type'\n",
    "]].to_csv(\"output_nls_products.csv\", encoding=\"utf-8\", header=False, quoting=csv.QUOTE_ALL)"
   ]
  },
  {
   "cell_type": "code",
   "execution_count": null,
   "metadata": {
    "collapsed": false
   },
   "outputs": [],
   "source": [
    "df_brands = pandas.DataFrame(brands)\n",
    "df_brands.index = df_brands['brand_id']\n",
    "df_brands[[\n",
    "        'name', 'supplier'\n",
    "]].to_csv(\"output_brands.csv\", encoding=\"utf-8\", header=False, quoting=csv.QUOTE_ALL)"
   ]
  },
  {
   "cell_type": "code",
   "execution_count": null,
   "metadata": {
    "collapsed": false
   },
   "outputs": [],
   "source": [
    "df_nls_brands = pandas.DataFrame(nls_brands)\n",
    "df_nls_brands.index = df_nls_brands['brand_id']\n",
    "df_nls_brands[[\n",
    "        'language_id', 'name', 'supplier'\n",
    "]].to_csv(\"output_nls_brands.csv\", encoding=\"utf-8\", header=False, quoting=csv.QUOTE_ALL)"
   ]
  },
  {
   "cell_type": "code",
   "execution_count": null,
   "metadata": {
    "collapsed": false
   },
   "outputs": [],
   "source": [
    "df_photos = pandas.DataFrame(photos)\n",
    "df_photos.index = df_photos['photo_id']\n",
    "df_photos[[\n",
    "        'product_id', 'name', 'description'\n",
    "]].to_csv(\"output_photos.csv\", encoding=\"utf-8\", header=False, quoting=csv.QUOTE_ALL)"
   ]
  },
  {
   "cell_type": "code",
   "execution_count": null,
   "metadata": {
    "collapsed": true
   },
   "outputs": [],
   "source": []
  }
 ],
 "metadata": {
  "anaconda-cloud": {},
  "kernelspec": {
   "display_name": "Python [conda root]",
   "language": "python",
   "name": "conda-root-py"
  },
  "language_info": {
   "codemirror_mode": {
    "name": "ipython",
    "version": 3
   },
   "file_extension": ".py",
   "mimetype": "text/x-python",
   "name": "python",
   "nbconvert_exporter": "python",
   "pygments_lexer": "ipython3",
   "version": "3.5.2"
  }
 },
 "nbformat": 4,
 "nbformat_minor": 0
}
